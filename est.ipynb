{
 "cells": [
  {
   "cell_type": "code",
   "execution_count": 65,
   "id": "184e9e6a",
   "metadata": {},
   "outputs": [
    {
     "name": "stdout",
     "output_type": "stream",
     "text": [
      "Number of run = 1.0285714285714285\n",
      "Number of periods = 8\n",
      "Start time T1 group = 3\n",
      "Start time T2 group = 3\n",
      "Start time group = 3\n",
      "X <= 1: [0, 2] \n",
      "Y <= 1: [0, 2] \n"
     ]
    }
   ],
   "source": [
    "from math import ceil\n",
    "\n",
    "# T0\n",
    "tau_max_T0 = 6\n",
    "beta_max_T0 = 35\n",
    "est_T0 = 0\n",
    "\n",
    "# T1\n",
    "tau_min_T1 = 6\n",
    "beta_min_T1 = 18\n",
    "\n",
    "# T2\n",
    "tau_min_T2 = 6\n",
    "beta_min_T2 = 18\n",
    "\n",
    "# End\n",
    "tau_end = 1\n",
    "\n",
    "pr = (tau_min_T1*beta_min_T1 + tau_min_T2*beta_min_T2)/(tau_max_T0*beta_max_T0)\n",
    "np = ceil(pr*tau_max_T0) + ceil(pr*tau_end) - 1\n",
    "est_T1 = max(est_T0 + 1, est_T0 + np + 1 - tau_min_T1)\n",
    "est_T2 = max(est_T0 + 1, est_T0 + np + 1 - tau_min_T2)\n",
    "est_group = max(est_T1, est_T2)\n",
    "\n",
    "print(f\"Number of run = {pr}\")\n",
    "print(f\"Number of periods = {np}\")\n",
    "print(f\"Start time T1 group = {est_T1}\")\n",
    "print(f\"Start time T2 group = {est_T2}\")\n",
    "print(f\"Start time group = {est_group}\")\n",
    "print(f\"X <= 1: [0, {est_group-1}] \")\n",
    "print(f\"Y <= 1: [0, {est_group-1}] \")\n",
    "\n"
   ]
  }
 ],
 "metadata": {
  "kernelspec": {
   "display_name": "base",
   "language": "python",
   "name": "python3"
  },
  "language_info": {
   "codemirror_mode": {
    "name": "ipython",
    "version": 3
   },
   "file_extension": ".py",
   "mimetype": "text/x-python",
   "name": "python",
   "nbconvert_exporter": "python",
   "pygments_lexer": "ipython3",
   "version": "3.12.3"
  }
 },
 "nbformat": 4,
 "nbformat_minor": 5
}
