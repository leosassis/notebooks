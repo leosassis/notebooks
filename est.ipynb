{
 "cells": [
  {
   "cell_type": "code",
   "execution_count": 1,
   "id": "184e9e6a",
   "metadata": {},
   "outputs": [
    {
     "name": "stdout",
     "output_type": "stream",
     "text": [
      "Number of run = 1.6666666666666667\n",
      "Number of periods = 11\n",
      "Start time T1 group = 6\n",
      "Start time T2 group = 6\n",
      "Start time group = 6\n",
      "X <= 1: [0, 5] \n",
      "Y <= 1: [0, 5] \n"
     ]
    }
   ],
   "source": [
    "# EST tasks in different units consuming the same material. \n",
    "from math import ceil\n",
    "\n",
    "# T0\n",
    "tau_max_T0 = 6\n",
    "beta_max_T0 = 30\n",
    "est_T0 = 0\n",
    "\n",
    "# T1\n",
    "tau_min_T1 = 6\n",
    "beta_min_T1 = 25\n",
    "\n",
    "# T2\n",
    "tau_min_T2 = 6\n",
    "beta_min_T2 = 25\n",
    "\n",
    "# End\n",
    "tau_end = 1\n",
    "\n",
    "pr = (tau_min_T1*beta_min_T1 + tau_min_T2*beta_min_T2)/(tau_max_T0*beta_max_T0)\n",
    "np = ceil(pr*tau_max_T0) + ceil(pr*tau_end) - 1\n",
    "est_T1 = max(est_T0 + 1, est_T0 + np + 1 - tau_min_T1)\n",
    "est_T2 = max(est_T0 + 1, est_T0 + np + 1 - tau_min_T2)\n",
    "est_group = max(est_T1, est_T2)\n",
    "\n",
    "print(f\"Number of run = {pr}\")\n",
    "print(f\"Number of periods = {np}\")\n",
    "print(f\"Start time T1 group = {est_T1}\")\n",
    "print(f\"Start time T2 group = {est_T2}\")\n",
    "print(f\"Start time group = {est_group}\")\n",
    "print(f\"X <= 1: [0, {est_group-1}] \")\n",
    "print(f\"Y <= 1: [0, {est_group-1}] \")\n",
    "\n"
   ]
  },
  {
   "cell_type": "code",
   "execution_count": 2,
   "id": "0ee4613a",
   "metadata": {},
   "outputs": [
    {
     "name": "stdout",
     "output_type": "stream",
     "text": [
      "Number of run for T1 = 0.8333333333333334\n",
      "Number of periods for T1 = 5\n",
      "Start time T1 = 1\n",
      "Number of run for T1 = 0.8333333333333334\n",
      "Number of periods for T1 = 5\n",
      "Start time T2 = 1\n"
     ]
    }
   ],
   "source": [
    "# EST tasks. \n",
    "from math import ceil\n",
    "\n",
    "# T0\n",
    "tau_max_T0 = 6\n",
    "beta_max_T0 = 30\n",
    "est_T0 = 0\n",
    "\n",
    "# T1\n",
    "tau_min_T1 = 6\n",
    "beta_min_T1 = 25\n",
    "\n",
    "# T2\n",
    "tau_min_T2 = 6\n",
    "beta_min_T2 = 25\n",
    "\n",
    "# End\n",
    "tau_end = 1\n",
    "\n",
    "pr_T1 = (tau_min_T1*beta_min_T1)/(tau_max_T0*beta_max_T0)\n",
    "np_T1 = ceil(pr_T1*tau_max_T0) + ceil(pr_T1*tau_end) - 1\n",
    "est_T1 = max(est_T0 + 1, est_T0 + np_T1 + 1 - tau_min_T1)\n",
    "\n",
    "pr_T2 = (tau_min_T2*beta_min_T2)/(tau_max_T0*beta_max_T0)\n",
    "np_T2 = ceil(pr_T2*tau_max_T0) + ceil(pr_T2*tau_end) - 1\n",
    "est_T2 = max(est_T0 + 1, est_T0 + np_T2 + 1 - tau_min_T2)\n",
    "\n",
    "print(f\"Number of run for T1 = {pr_T1}\")\n",
    "print(f\"Number of periods for T1 = {np_T1}\")\n",
    "print(f\"Start time T1 = {est_T1}\")\n",
    "\n",
    "print(f\"Number of run for T1 = {pr_T2}\")\n",
    "print(f\"Number of periods for T1 = {np_T2}\")\n",
    "print(f\"Start time T2 = {est_T2}\")"
   ]
  }
 ],
 "metadata": {
  "kernelspec": {
   "display_name": "base",
   "language": "python",
   "name": "python3"
  },
  "language_info": {
   "codemirror_mode": {
    "name": "ipython",
    "version": 3
   },
   "file_extension": ".py",
   "mimetype": "text/x-python",
   "name": "python",
   "nbconvert_exporter": "python",
   "pygments_lexer": "ipython3",
   "version": "3.12.3"
  }
 },
 "nbformat": 4,
 "nbformat_minor": 5
}
