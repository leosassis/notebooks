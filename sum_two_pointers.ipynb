{
 "cells": [
  {
   "cell_type": "code",
   "execution_count": null,
   "metadata": {},
   "outputs": [
    {
     "name": "stdout",
     "output_type": "stream",
     "text": [
      "[0, 4]\n"
     ]
    }
   ],
   "source": [
    "from typing import List\n",
    "\n",
    "def two_sum(nums: List[int], target: int) -> List[int]:\n",
    "    \"\"\"\n",
    "    Finds two number in a sorted list that add up to the target.\n",
    "    \n",
    "    Arguments:\n",
    "        nums (List[int]): a sorted list of integers.\n",
    "        target (int): the target sum.\n",
    "    \n",
    "    Returns:\n",
    "        List[int]: the indices of the two numbers that add up to the target or an empty list.    \n",
    "        \n",
    "    Complexity:\n",
    "        O(n)    \n",
    "    \"\"\"    \n",
    "    \n",
    "    start = 0\n",
    "    end = len(nums) - 1\n",
    "\n",
    "    while start < end:\n",
    "        current_sum = nums[start] + nums[end]\n",
    "        \n",
    "        if current_sum == target:\n",
    "            return [start, end]\n",
    "        elif current_sum < target:\n",
    "            start += 1\n",
    "        else:\n",
    "            end -= 1\n",
    "\n",
    "    return []            \n",
    "\n",
    "nums = [1, 2, 3, 6, 8, 11, 15]\n",
    "target = 9\n",
    "\n",
    "print(two_sum(nums, target))"
   ]
  }
 ],
 "metadata": {
  "kernelspec": {
   "display_name": "base",
   "language": "python",
   "name": "python3"
  },
  "language_info": {
   "codemirror_mode": {
    "name": "ipython",
    "version": 3
   },
   "file_extension": ".py",
   "mimetype": "text/x-python",
   "name": "python",
   "nbconvert_exporter": "python",
   "pygments_lexer": "ipython3",
   "version": "3.12.3"
  }
 },
 "nbformat": 4,
 "nbformat_minor": 2
}
