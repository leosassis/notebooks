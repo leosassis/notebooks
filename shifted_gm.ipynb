{
 "cells": [
  {
   "cell_type": "code",
   "execution_count": 1,
   "id": "d8e5d396",
   "metadata": {},
   "outputs": [
    {
     "name": "stdout",
     "output_type": "stream",
     "text": [
      "Solver A: 9.33 sec\n",
      "Solver B: 11.55 sec\n"
     ]
    }
   ],
   "source": [
    "import numpy as np\n",
    "\n",
    "def shifted_geometric_mean(times, shift=1.0):\n",
    "    times = np.array(times)\n",
    "    return np.exp(np.mean(np.log(times + shift))) - shift\n",
    "\n",
    "times_A = [2.1, 0.5, 100.0, 0.0]\n",
    "times_B = [1.9, 1.0, 150.0, 0.3]\n",
    "\n",
    "gm_A = shifted_geometric_mean(times_A, shift=10.0)\n",
    "gm_B = shifted_geometric_mean(times_B, shift=10.0)\n",
    "\n",
    "print(f\"Solver A: {gm_A:.2f} sec\")\n",
    "print(f\"Solver B: {gm_B:.2f} sec\")"
   ]
  }
 ],
 "metadata": {
  "kernelspec": {
   "display_name": "base",
   "language": "python",
   "name": "python3"
  },
  "language_info": {
   "codemirror_mode": {
    "name": "ipython",
    "version": 3
   },
   "file_extension": ".py",
   "mimetype": "text/x-python",
   "name": "python",
   "nbconvert_exporter": "python",
   "pygments_lexer": "ipython3",
   "version": "3.12.3"
  }
 },
 "nbformat": 4,
 "nbformat_minor": 5
}
