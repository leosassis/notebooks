{
 "cells": [
  {
   "cell_type": "code",
   "execution_count": 18,
   "metadata": {},
   "outputs": [
    {
     "data": {
      "text/plain": [
       "9"
      ]
     },
     "execution_count": 18,
     "metadata": {},
     "output_type": "execute_result"
    }
   ],
   "source": [
    "\n",
    "from typing import List\n",
    "\n",
    "def max_sum_sub_array(nums: List[int], k: int):\n",
    "\n",
    "    \"\"\" \n",
    "    Finds the maximum sum of any contiguous subarray of size k using sliding window.\n",
    "    \n",
    "    Arguments:\n",
    "        nums (List[int]): a list of integers.\n",
    "        k (int): size of the subarray.\n",
    "    \n",
    "    Returns:\n",
    "        int: maximum sum of any contiguous subarray of size k.\n",
    "    \n",
    "    Complexity:\n",
    "        O(n)\n",
    "    \"\"\"\n",
    "\n",
    "    # Step1: compute the sum of the first k elements in the array nums.\n",
    "    max_sum = sum(nums[:k])\n",
    "    current_sum = max_sum\n",
    "    \n",
    "    # Stepe2: slide the window across the array and compute the new sum.\n",
    "    for i in range(k, len(nums)):\n",
    "        \n",
    "        current_sum += nums[i] - nums[i-k]\n",
    "        max_sum = max(current_sum, max_sum)\n",
    "        \n",
    "    return max_sum\n",
    "        \n",
    "nums = [2, 1, 5, 1, 3, 2]\n",
    "k = 3\n",
    "\n",
    "max_sum_sub_array(nums, k)\n"
   ]
  }
 ],
 "metadata": {
  "kernelspec": {
   "display_name": "base",
   "language": "python",
   "name": "python3"
  },
  "language_info": {
   "codemirror_mode": {
    "name": "ipython",
    "version": 3
   },
   "file_extension": ".py",
   "mimetype": "text/x-python",
   "name": "python",
   "nbconvert_exporter": "python",
   "pygments_lexer": "ipython3",
   "version": "3.12.3"
  }
 },
 "nbformat": 4,
 "nbformat_minor": 2
}
