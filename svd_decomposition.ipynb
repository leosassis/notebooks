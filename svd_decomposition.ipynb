{
 "cells": [
  {
   "cell_type": "code",
   "execution_count": 22,
   "id": "b767028a",
   "metadata": {},
   "outputs": [],
   "source": [
    "import numpy as np\n",
    "\n"
   ]
  },
  {
   "cell_type": "code",
   "execution_count": 23,
   "id": "bd7380db",
   "metadata": {},
   "outputs": [
    {
     "name": "stdout",
     "output_type": "stream",
     "text": [
      "[[ 2 12 16]\n",
      " [ 2 14 12]\n",
      " [ 8  2  6]\n",
      " [ 6  2 16]\n",
      " [ 4 14  2]\n",
      " [ 8  4  2]]\n",
      "[5 8 9]\n",
      "[[-3  4  7]\n",
      " [-3  6  3]\n",
      " [ 3 -6 -3]\n",
      " [ 1 -6  7]\n",
      " [-1  6 -7]\n",
      " [ 3 -4 -7]]\n"
     ]
    }
   ],
   "source": [
    "A = np.array([[2, 12, 16], [2, 14, 12], [8, 2, 6], [6, 2, 16], [4, 14, 2], [8, 4, 2]])\n",
    "print(A)\n",
    "b = np.array([5, 8, 9])\n",
    "print(b)\n",
    "\n",
    "AN = A-b\n",
    "\n",
    "print(AN)"
   ]
  },
  {
   "cell_type": "code",
   "execution_count": 31,
   "id": "f8e7f1e7",
   "metadata": {},
   "outputs": [
    {
     "name": "stdout",
     "output_type": "stream",
     "text": [
      "U:\n",
      " [[-0.35805744  0.19611614  0.91287093]\n",
      " [ 0.50128041 -0.78446454  0.36514837]\n",
      " [ 0.78772636  0.58834841  0.18257419]]\n",
      "Singular values:\n",
      " [2.40000000e+02 1.88000000e+02 3.18395058e-15]\n",
      "V^T:\n",
      " [[-0.35805744  0.50128041  0.78772636]\n",
      " [ 0.19611614 -0.78446454  0.58834841]\n",
      " [-0.91287093 -0.36514837 -0.18257419]]\n",
      "Hyperplane coefficients (normal vector): [-0.91287093 -0.36514837 -0.18257419]\n"
     ]
    }
   ],
   "source": [
    "U, S, VT = np.linalg.svd(np.dot(np.transpose(AN), AN))\n",
    "\n",
    "print(\"U:\\n\", U)\n",
    "print(\"Singular values:\\n\", S)\n",
    "print(\"V^T:\\n\", VT)\n",
    "\n",
    "# The last row of V^T gives the normal vector of the hyperplane\n",
    "normal_vector = VT[-1, :]  # Last row\n",
    "\n",
    "print(\"Hyperplane coefficients (normal vector):\", normal_vector)"
   ]
  },
  {
   "cell_type": "code",
   "execution_count": null,
   "id": "8e63bfe3",
   "metadata": {},
   "outputs": [
    {
     "name": "stdout",
     "output_type": "stream",
     "text": [
      "[[-0.35805744  0.19611614 -0.91287093]\n",
      " [ 0.50128041 -0.78446454 -0.36514837]\n",
      " [ 0.78772636  0.58834841 -0.18257419]]\n"
     ]
    }
   ],
   "source": [
    "normal_vector = normal_vector / normal_vector[2]\n",
    "print(V)"
   ]
  },
  {
   "cell_type": "code",
   "execution_count": 30,
   "id": "c781f081",
   "metadata": {},
   "outputs": [
    {
     "name": "stdout",
     "output_type": "stream",
     "text": [
      "Hyperplane coefficients (normal vector): [-0.40824829  0.81649658 -0.40824829]\n"
     ]
    }
   ],
   "source": [
    "import numpy as np\n",
    "\n",
    "# Example data points (each row is a point in n-dimensional space)\n",
    "A = np.array([[1, 2, 3], [4, 5, 6], [7, 8, 9], [10, 11, 12]])\n",
    "\n",
    "# Compute SVD\n",
    "U, S, VT = np.linalg.svd(A)\n",
    "\n",
    "# The last row of V^T gives the normal vector of the hyperplane\n",
    "normal_vector = VT[-1, :]  # Last row\n",
    "\n",
    "print(\"Hyperplane coefficients (normal vector):\", normal_vector)"
   ]
  }
 ],
 "metadata": {
  "kernelspec": {
   "display_name": "base",
   "language": "python",
   "name": "python3"
  },
  "language_info": {
   "codemirror_mode": {
    "name": "ipython",
    "version": 3
   },
   "file_extension": ".py",
   "mimetype": "text/x-python",
   "name": "python",
   "nbconvert_exporter": "python",
   "pygments_lexer": "ipython3",
   "version": "3.12.3"
  }
 },
 "nbformat": 4,
 "nbformat_minor": 5
}
