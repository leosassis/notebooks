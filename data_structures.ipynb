{
 "cells": [
  {
   "cell_type": "code",
   "execution_count": 1,
   "id": "e9097185",
   "metadata": {},
   "outputs": [
    {
     "name": "stdout",
     "output_type": "stream",
     "text": [
      "[1, 3, 5, 7]\n",
      "[1, 2, 3, 5, 7]\n",
      "[1, 2, 5, 7]\n",
      "[1, 2, 5]\n",
      "[1, 10, 2, 5]\n",
      "[1, 2, 5, 10]\n",
      "1\n",
      "2\n",
      "5\n",
      "10\n",
      "0 apple\n",
      "1 banana\n",
      "2 pinaple\n"
     ]
    }
   ],
   "source": [
    "# Lists\n",
    "# What: ordered, mutable collection (number, strings, etc)\n",
    "# When: when you need an oredered collection and may need to add/remevo/change items\n",
    "\n",
    "# append(x): add x to the end of the list\n",
    "# insert(i, x): insert x at position i\n",
    "# remove(x): remove first x\n",
    "# pop(i): remove and return item in position i (default is last)\n",
    "# sort(): sort the list \n",
    "# enumerate(): include an index to the iterable\n",
    "\n",
    "lst = [1, 3, 5]\n",
    "\n",
    "lst.append(7)\n",
    "print(lst)\n",
    "lst.insert(1,2)\n",
    "print(lst)\n",
    "lst.remove(3)\n",
    "print(lst)\n",
    "lst.pop()\n",
    "print(lst)\n",
    "lst.insert(1, 10)\n",
    "print(lst)\n",
    "lst.sort()\n",
    "print(lst)\n",
    "\n",
    "for item in lst:\n",
    "    print(item)\n",
    "\n",
    "True if 2 in lst else False\n",
    "True if 6 not in lst else False \n",
    "\n",
    "lst = ['apple', 'banana', 'pinaple']\n",
    "\n",
    "for idx, value in enumerate(lst):\n",
    "    print(idx, value)"
   ]
  },
  {
   "cell_type": "code",
   "execution_count": null,
   "id": "accb09c4",
   "metadata": {},
   "outputs": [
    {
     "name": "stdout",
     "output_type": "stream",
     "text": [
      "2\n",
      "0\n",
      "4\n",
      "True\n",
      "(3, 2)\n",
      "1\n",
      "2\n",
      "3\n",
      "2\n"
     ]
    },
    {
     "data": {
      "text/plain": [
       "True"
      ]
     },
     "execution_count": 45,
     "metadata": {},
     "output_type": "execute_result"
    }
   ],
   "source": [
    "# Tuple\n",
    "# What: ordered, immutable collection\n",
    "# When: when data should not change (e.g., keys in a dict, function returns with multiple values)\n",
    "\n",
    "# count(x): count of x \n",
    "# index(x): index of x\n",
    "# len(tup): length\n",
    "# in / not in: membership test\n",
    "# tup[i:]: slice and returns new tuple starting at index i\n",
    "\n",
    "tup = (1, 2, 3, 2)\n",
    "print(tup.count(2))\n",
    "print(tup.index(1))\n",
    "print(len(tup))\n",
    "print(\"True\") if 3 in tup else print(\"False\")\n",
    "print(tup[2:])\n",
    "\n",
    "for item in tup:\n",
    "    print(item)\n",
    "    \n",
    "True if 2 in tup else False\n",
    "True if 3 not in tup else False"
   ]
  },
  {
   "cell_type": "code",
   "execution_count": 47,
   "id": "f03d0a38",
   "metadata": {},
   "outputs": [
    {
     "name": "stdout",
     "output_type": "stream",
     "text": [
      "[1, 2, 3]\n",
      "[1, 2, 3, 4]\n",
      "[1, 5, 2, 3, 4]\n",
      "[1, 5, 3, 4]\n",
      "[1, 5, 3]\n",
      "[3, 5, 1]\n",
      "3\n",
      "5\n",
      "1\n"
     ]
    },
    {
     "data": {
      "text/plain": [
       "False"
      ]
     },
     "execution_count": 47,
     "metadata": {},
     "output_type": "execute_result"
    }
   ],
   "source": [
    "# Array\n",
    "# What: compact, typed arrays. For number it is faster than list  \n",
    "# When: numeric data only\n",
    "\n",
    "# append(x): add x to the end of the array\n",
    "# insert(i, x): insert x at position i\n",
    "# remove(x): remove first x\n",
    "# pop(i): remove and return item in position i (default is last)\n",
    "# reverse(): change de order of items in the array  \n",
    "\n",
    "import array\n",
    "\n",
    "arr = array.array('i', [1, 2, 3])\n",
    "print(arr.tolist())\n",
    "arr.append(4)\n",
    "print(arr.tolist())\n",
    "arr.insert(1, 5)\n",
    "print(arr.tolist())\n",
    "arr.remove(2)\n",
    "print(arr.tolist())\n",
    "arr.pop()\n",
    "print(arr.tolist())\n",
    "arr.reverse()\n",
    "print(arr.tolist())\n",
    "\n",
    "for item in arr:\n",
    "    print(item)\n",
    "    \n",
    "True if 2 in arr else False\n",
    "    "
   ]
  },
  {
   "cell_type": "code",
   "execution_count": 51,
   "id": "0dae726d",
   "metadata": {},
   "outputs": [
    {
     "name": "stdout",
     "output_type": "stream",
     "text": [
      "1\n",
      "['a', 'b', 'c']\n",
      "[('a', 1), ('b', 2), ('c', 2)]\n",
      "[1, 2, 2]\n",
      "{'a': 1, 'c': 2}\n",
      "a 1\n",
      "c 2\n",
      "a 1\n",
      "c 2\n"
     ]
    },
    {
     "data": {
      "text/plain": [
       "True"
      ]
     },
     "execution_count": 51,
     "metadata": {},
     "output_type": "execute_result"
    }
   ],
   "source": [
    "# Dictionary\n",
    "# What: key-value pairs\n",
    "# When: mapping, fast lookup\n",
    "\n",
    "# get(key): return the value associated to the key\n",
    "# keys(): return the keys in the dictionary\n",
    "# values(): return the values in the dictionary\n",
    "# items(): return the pair key-value in the dictionary\n",
    "# pop(key): remove and return the pair key-value in the dictionary\n",
    "\n",
    "d = {'a': 1, 'b':2, 'c': 2}\n",
    "print(d.get('a'))\n",
    "print(list(d.keys()))\n",
    "print(list(d.items()))\n",
    "print(list(d.values()))\n",
    "d.pop('b')\n",
    "print(d)\n",
    "\n",
    "for key in d.keys():\n",
    "    print(key, d[key])\n",
    "\n",
    "for key,value in d.items():\n",
    "    print(key, value)    \n",
    "\n",
    "True if 'a' in d else False"
   ]
  },
  {
   "cell_type": "code",
   "execution_count": 53,
   "id": "0ebaec34",
   "metadata": {},
   "outputs": [
    {
     "name": "stdout",
     "output_type": "stream",
     "text": [
      "{1, 3, 4, 5, 6}\n",
      "{3}\n",
      "{1}\n",
      "{1, 3, 4}\n",
      "1\n",
      "3\n",
      "4\n"
     ]
    },
    {
     "data": {
      "text/plain": [
       "True"
      ]
     },
     "execution_count": 53,
     "metadata": {},
     "output_type": "execute_result"
    }
   ],
   "source": [
    "# Set\n",
    "# What: unordered, unique elements\n",
    "# When: remove duplicates, set operations like union, intersection, etc\n",
    "\n",
    "# add(x): add element x to the set\n",
    "# remove(x): remove element x from the set\n",
    "# s.union(set): return a set which is the union between s and set\n",
    "# s.intersection(set): return a set which is the intersection between s and set\n",
    "# s.difference(set): return the difference between s and set\n",
    "  \n",
    "s = {1, 2, 3}\n",
    "s.add(4)\n",
    "s.remove(2)\n",
    "print(s.union({5,6}))\n",
    "print(s.intersection({3,5}))\n",
    "print(s.difference({3,4}))\n",
    "print(s)\n",
    "\n",
    "for item in s:\n",
    "    print(item)\n",
    "    \n",
    "True if 4 in s else False    "
   ]
  }
 ],
 "metadata": {
  "kernelspec": {
   "display_name": "base",
   "language": "python",
   "name": "python3"
  },
  "language_info": {
   "codemirror_mode": {
    "name": "ipython",
    "version": 3
   },
   "file_extension": ".py",
   "mimetype": "text/x-python",
   "name": "python",
   "nbconvert_exporter": "python",
   "pygments_lexer": "ipython3",
   "version": "3.12.3"
  }
 },
 "nbformat": 4,
 "nbformat_minor": 5
}
