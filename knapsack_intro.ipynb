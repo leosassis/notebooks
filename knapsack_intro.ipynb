{
 "cells": [
  {
   "cell_type": "code",
   "execution_count": 1,
   "id": "a84ef7e4-faac-45ad-b470-23046a28dbbd",
   "metadata": {},
   "outputs": [
    {
     "name": "stdout",
     "output_type": "stream",
     "text": [
      "WARNING: Failed to create solver with name 'highs': Failed to set executable\n",
      "for solver asl. File with name=highs either does not exist or it is not\n",
      "executable. To skip this validation, call set_executable with validate=False.\n",
      "Traceback (most recent call last):\n",
      "  File \"C:\\Users\\ls5288_admin\\anaconda3\\Lib\\site-packages\\pyomo\\opt\\base\\solvers.py\", line 162, in __call__\n",
      "    opt = self._cls[_implicit_solvers[mode]](**kwds)\n",
      "          ^^^^^^^^^^^^^^^^^^^^^^^^^^^^^^^^^^^^^^^^^^\n",
      "  File \"C:\\Users\\ls5288_admin\\anaconda3\\Lib\\site-packages\\pyomo\\solvers\\plugins\\solvers\\ASL.py\", line 46, in __init__\n",
      "    SystemCallSolver.__init__(self, **kwds)\n",
      "  File \"C:\\Users\\ls5288_admin\\anaconda3\\Lib\\site-packages\\pyomo\\opt\\solver\\shellcmd.py\", line 66, in __init__\n",
      "    self.set_executable(name=executable, validate=validate)\n",
      "  File \"C:\\Users\\ls5288_admin\\anaconda3\\Lib\\site-packages\\pyomo\\opt\\solver\\shellcmd.py\", line 115, in set_executable\n",
      "    raise ValueError(\n",
      "ValueError: Failed to set executable for solver asl. File with name=highs either does not exist or it is not executable. To skip this validation, call set_executable with validate=False.\n"
     ]
    },
    {
     "ename": "RuntimeError",
     "evalue": "Attempting to use an unavailable solver.\n\nThe SolverFactory was unable to create the solver \"highs\"\nand returned an UnknownSolver object.  This error is raised at the point\nwhere the UnknownSolver object was used as if it were valid (by calling\nmethod \"solve\").\n\nThe original solver was created with the following parameters:\n\texecutable: highs\n\ttype: highs\n\t_args: ()\n\toptions: {}",
     "output_type": "error",
     "traceback": [
      "\u001b[1;31m---------------------------------------------------------------------------\u001b[0m",
      "\u001b[1;31mRuntimeError\u001b[0m                              Traceback (most recent call last)",
      "Cell \u001b[1;32mIn[1], line 41\u001b[0m\n\u001b[0;32m     39\u001b[0m \u001b[38;5;66;03m# Solve the model using the 'highs' solver\u001b[39;00m\n\u001b[0;32m     40\u001b[0m solver \u001b[38;5;241m=\u001b[39m pyo\u001b[38;5;241m.\u001b[39mSolverFactory(\u001b[38;5;124m'\u001b[39m\u001b[38;5;124mhighs\u001b[39m\u001b[38;5;124m'\u001b[39m)\n\u001b[1;32m---> 41\u001b[0m solver\u001b[38;5;241m.\u001b[39msolve(model)\n\u001b[0;32m     43\u001b[0m \u001b[38;5;66;03m# Print results\u001b[39;00m\n\u001b[0;32m     44\u001b[0m \u001b[38;5;28mprint\u001b[39m(\u001b[38;5;124mf\u001b[39m\u001b[38;5;124m\"\u001b[39m\u001b[38;5;124mOptimal value: \u001b[39m\u001b[38;5;132;01m{\u001b[39;00mpyo\u001b[38;5;241m.\u001b[39mvalue(model\u001b[38;5;241m.\u001b[39mobj)\u001b[38;5;132;01m}\u001b[39;00m\u001b[38;5;124m\"\u001b[39m)\n",
      "File \u001b[1;32m~\\anaconda3\\Lib\\site-packages\\pyomo\\opt\\base\\solvers.py:99\u001b[0m, in \u001b[0;36mUnknownSolver.solve\u001b[1;34m(self, *args, **kwds)\u001b[0m\n\u001b[0;32m     97\u001b[0m \u001b[38;5;28;01mdef\u001b[39;00m \u001b[38;5;21msolve\u001b[39m(\u001b[38;5;28mself\u001b[39m, \u001b[38;5;241m*\u001b[39margs, \u001b[38;5;241m*\u001b[39m\u001b[38;5;241m*\u001b[39mkwds):\n\u001b[0;32m     98\u001b[0m \u001b[38;5;250m    \u001b[39m\u001b[38;5;124;03m\"\"\"Perform optimization and return an SolverResults object.\"\"\"\u001b[39;00m\n\u001b[1;32m---> 99\u001b[0m     \u001b[38;5;28mself\u001b[39m\u001b[38;5;241m.\u001b[39m_solver_error(\u001b[38;5;124m'\u001b[39m\u001b[38;5;124msolve\u001b[39m\u001b[38;5;124m'\u001b[39m)\n",
      "File \u001b[1;32m~\\anaconda3\\Lib\\site-packages\\pyomo\\opt\\base\\solvers.py:116\u001b[0m, in \u001b[0;36mUnknownSolver._solver_error\u001b[1;34m(self, method_name)\u001b[0m\n\u001b[0;32m    115\u001b[0m     \u001b[38;5;28;01mdef\u001b[39;00m \u001b[38;5;21m_solver_error\u001b[39m(\u001b[38;5;28mself\u001b[39m, method_name):\n\u001b[1;32m--> 116\u001b[0m         \u001b[38;5;28;01mraise\u001b[39;00m \u001b[38;5;167;01mRuntimeError\u001b[39;00m(\n\u001b[0;32m    117\u001b[0m \u001b[38;5;250m            \u001b[39m\u001b[38;5;124;03m\"\"\"Attempting to use an unavailable solver.\u001b[39;00m\n\u001b[0;32m    118\u001b[0m \n\u001b[0;32m    119\u001b[0m \u001b[38;5;124;03mThe SolverFactory was unable to create the solver \"%s\"\u001b[39;00m\n\u001b[0;32m    120\u001b[0m \u001b[38;5;124;03mand returned an UnknownSolver object.  This error is raised at the point\u001b[39;00m\n\u001b[0;32m    121\u001b[0m \u001b[38;5;124;03mwhere the UnknownSolver object was used as if it were valid (by calling\u001b[39;00m\n\u001b[0;32m    122\u001b[0m \u001b[38;5;124;03mmethod \"%s\").\u001b[39;00m\n\u001b[0;32m    123\u001b[0m \n\u001b[0;32m    124\u001b[0m \u001b[38;5;124;03mThe original solver was created with the following parameters:\u001b[39;00m\n\u001b[0;32m    125\u001b[0m \u001b[38;5;124;03m\\t\"\"\"\u001b[39;00m\n\u001b[0;32m    126\u001b[0m             \u001b[38;5;241m%\u001b[39m (\u001b[38;5;28mself\u001b[39m\u001b[38;5;241m.\u001b[39mtype, method_name)\n\u001b[0;32m    127\u001b[0m             \u001b[38;5;241m+\u001b[39m \u001b[38;5;124m\"\u001b[39m\u001b[38;5;130;01m\\n\u001b[39;00m\u001b[38;5;130;01m\\t\u001b[39;00m\u001b[38;5;124m\"\u001b[39m\u001b[38;5;241m.\u001b[39mjoin(\u001b[38;5;124m\"\u001b[39m\u001b[38;5;132;01m%s\u001b[39;00m\u001b[38;5;124m: \u001b[39m\u001b[38;5;132;01m%s\u001b[39;00m\u001b[38;5;124m\"\u001b[39m \u001b[38;5;241m%\u001b[39m i \u001b[38;5;28;01mfor\u001b[39;00m i \u001b[38;5;129;01min\u001b[39;00m \u001b[38;5;28msorted\u001b[39m(\u001b[38;5;28mself\u001b[39m\u001b[38;5;241m.\u001b[39m_kwds\u001b[38;5;241m.\u001b[39mitems()))\n\u001b[0;32m    128\u001b[0m             \u001b[38;5;241m+\u001b[39m \u001b[38;5;124m\"\u001b[39m\u001b[38;5;130;01m\\n\u001b[39;00m\u001b[38;5;130;01m\\t\u001b[39;00m\u001b[38;5;124m_args: \u001b[39m\u001b[38;5;132;01m%s\u001b[39;00m\u001b[38;5;124m\"\u001b[39m \u001b[38;5;241m%\u001b[39m (\u001b[38;5;28mself\u001b[39m\u001b[38;5;241m.\u001b[39m_args,)\n\u001b[0;32m    129\u001b[0m             \u001b[38;5;241m+\u001b[39m \u001b[38;5;124m\"\u001b[39m\u001b[38;5;130;01m\\n\u001b[39;00m\u001b[38;5;130;01m\\t\u001b[39;00m\u001b[38;5;124moptions: \u001b[39m\u001b[38;5;132;01m%s\u001b[39;00m\u001b[38;5;124m\"\u001b[39m \u001b[38;5;241m%\u001b[39m (\u001b[38;5;28mself\u001b[39m\u001b[38;5;241m.\u001b[39moptions,)\n\u001b[0;32m    130\u001b[0m         )\n",
      "\u001b[1;31mRuntimeError\u001b[0m: Attempting to use an unavailable solver.\n\nThe SolverFactory was unable to create the solver \"highs\"\nand returned an UnknownSolver object.  This error is raised at the point\nwhere the UnknownSolver object was used as if it were valid (by calling\nmethod \"solve\").\n\nThe original solver was created with the following parameters:\n\texecutable: highs\n\ttype: highs\n\t_args: ()\n\toptions: {}"
     ]
    }
   ],
   "source": [
    "import pyomo.environ as pyo\n",
    "\n",
    "# Define the data for the knapsack problem\n",
    "items = [\n",
    "    {'value': 60, 'weight': 10},\n",
    "    {'value': 100, 'weight': 20},\n",
    "    {'value': 120, 'weight': 30}\n",
    "]\n",
    "capacity = 50\n",
    "\n",
    "# Define the model\n",
    "model = pyo.ConcreteModel()\n",
    "\n",
    "# Number of items\n",
    "n = len(items)\n",
    "\n",
    "# Sets\n",
    "model.I = pyo.RangeSet(0, n-1)  # Set of items\n",
    "\n",
    "# Parameters\n",
    "model.value = pyo.Param(model.I, initialize={i: items[i]['value'] for i in range(n)})\n",
    "model.weight = pyo.Param(model.I, initialize={i: items[i]['weight'] for i in range(n)})\n",
    "model.capacity = pyo.Param(initialize=capacity)\n",
    "\n",
    "# Variables\n",
    "model.x = pyo.Var(model.I, domain=pyo.Binary)\n",
    "\n",
    "# Objective function: Maximize total value\n",
    "model.obj = pyo.Objective(\n",
    "    expr=sum(model.value[i] * model.x[i] for i in model.I),\n",
    "    sense=pyo.maximize\n",
    ")\n",
    "\n",
    "# Constraint: Total weight cannot exceed capacity\n",
    "model.weight_constraint = pyo.Constraint(\n",
    "    expr=sum(model.weight[i] * model.x[i] for i in model.I) <= model.capacity\n",
    ")\n",
    "\n",
    "# Solve the model using the 'highs' solver\n",
    "solver = pyo.SolverFactory('highs')\n",
    "solver.solve(model)\n",
    "\n",
    "# Print results\n",
    "print(f\"Optimal value: {pyo.value(model.obj)}\")\n",
    "print(\"Items selected:\")\n",
    "for i in model.I:\n",
    "    if pyo.value(model.x[i]) == 1:\n",
    "        print(f\"Item {i}: Value = {items[i]['value']}, Weight = {items[i]['weight']}\")"
   ]
  },
  {
   "cell_type": "code",
   "execution_count": null,
   "id": "1772d49e-c10d-45e9-b812-9a1723b63eb6",
   "metadata": {},
   "outputs": [],
   "source": []
  }
 ],
 "metadata": {
  "kernelspec": {
   "display_name": "Python 3 (ipykernel)",
   "language": "python",
   "name": "python3"
  },
  "language_info": {
   "codemirror_mode": {
    "name": "ipython",
    "version": 3
   },
   "file_extension": ".py",
   "mimetype": "text/x-python",
   "name": "python",
   "nbconvert_exporter": "python",
   "pygments_lexer": "ipython3",
   "version": "3.12.3"
  }
 },
 "nbformat": 4,
 "nbformat_minor": 5
}
